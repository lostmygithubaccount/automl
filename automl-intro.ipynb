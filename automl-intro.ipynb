{
  "cells": [
    {
      "cell_type": "code",
      "source": [
        "from azureml.opendatasets import NycTlcGreen\n",
        "import pandas as pd\n",
        "from datetime import datetime\n",
        "from dateutil.relativedelta import relativedelta"
      ],
      "outputs": [],
      "execution_count": 2,
      "metadata": {
        "gather": {
          "logged": 1603999100325
        }
      }
    },
    {
      "cell_type": "code",
      "source": [
        "green_taxi_df = pd.DataFrame([])\n",
        "start = datetime.strptime(\"1/1/2015\",\"%m/%d/%Y\")\n",
        "end = datetime.strptime(\"1/31/2015\",\"%m/%d/%Y\")\n",
        "\n",
        "for sample_month in range(12):\n",
        "    temp_df_green = NycTlcGreen(start + relativedelta(months=sample_month), end + relativedelta(months=sample_month)) \\\n",
        "        .to_pandas_dataframe()\n",
        "    green_taxi_df = green_taxi_df.append(temp_df_green.sample(2000))\n",
        "\n",
        "green_taxi_df.head(10)"
      ],
      "outputs": [
        {
          "output_type": "stream",
          "name": "stdout",
          "text": [
            "[Info] read from /tmp/tmpdc_th6xo/https%3A/%2Fazureopendatastorage.azurefd.net/nyctlc/green/puYear=2015/puMonth=1/part-00175-tid-4753095944193949832-fee7e113-666d-4114-9fcb-bcd3046479f3-2745-1.c000.snappy.parquet\n",
            "[Info] read from /tmp/tmp5khudi2y/https%3A/%2Fazureopendatastorage.azurefd.net/nyctlc/green/puYear=2015/puMonth=2/part-00007-tid-4753095944193949832-fee7e113-666d-4114-9fcb-bcd3046479f3-2577-1.c000.snappy.parquet\n",
            "[Info] read from /tmp/tmpe7il8k_f/https%3A/%2Fazureopendatastorage.azurefd.net/nyctlc/green/puYear=2015/puMonth=3/part-00133-tid-4753095944193949832-fee7e113-666d-4114-9fcb-bcd3046479f3-2703-1.c000.snappy.parquet\n",
            "[Info] read from /tmp/tmprd3stovw/https%3A/%2Fazureopendatastorage.azurefd.net/nyctlc/green/puYear=2015/puMonth=4/part-00073-tid-4753095944193949832-fee7e113-666d-4114-9fcb-bcd3046479f3-2643-1.c000.snappy.parquet\n",
            "[Info] read from /tmp/tmpmry65h1m/https%3A/%2Fazureopendatastorage.azurefd.net/nyctlc/green/puYear=2015/puMonth=5/part-00177-tid-4753095944193949832-fee7e113-666d-4114-9fcb-bcd3046479f3-2747-1.c000.snappy.parquet\n",
            "[Info] read from /tmp/tmpv66eeyxf/https%3A/%2Fazureopendatastorage.azurefd.net/nyctlc/green/puYear=2015/puMonth=6/part-00156-tid-4753095944193949832-fee7e113-666d-4114-9fcb-bcd3046479f3-2726-2.c000.snappy.parquet\n",
            "[Info] read from /tmp/tmpxv812i26/https%3A/%2Fazureopendatastorage.azurefd.net/nyctlc/green/puYear=2015/puMonth=7/part-00147-tid-4753095944193949832-fee7e113-666d-4114-9fcb-bcd3046479f3-2717-1.c000.snappy.parquet\n",
            "[Info] read from /tmp/tmpf0d07oab/https%3A/%2Fazureopendatastorage.azurefd.net/nyctlc/green/puYear=2015/puMonth=8/part-00074-tid-4753095944193949832-fee7e113-666d-4114-9fcb-bcd3046479f3-2644-1.c000.snappy.parquet\n",
            "[Info] read from /tmp/tmp1esemw1_/https%3A/%2Fazureopendatastorage.azurefd.net/nyctlc/green/puYear=2015/puMonth=9/part-00092-tid-4753095944193949832-fee7e113-666d-4114-9fcb-bcd3046479f3-2662-1.c000.snappy.parquet\n",
            "[Info] read from /tmp/tmphhcnsz78/https%3A/%2Fazureopendatastorage.azurefd.net/nyctlc/green/puYear=2015/puMonth=10/part-00105-tid-4753095944193949832-fee7e113-666d-4114-9fcb-bcd3046479f3-2675-1.c000.snappy.parquet\n",
            "[Info] read from /tmp/tmprwisf1g1/https%3A/%2Fazureopendatastorage.azurefd.net/nyctlc/green/puYear=2015/puMonth=11/part-00089-tid-4753095944193949832-fee7e113-666d-4114-9fcb-bcd3046479f3-2659-1.c000.snappy.parquet\n",
            "[Info] read from /tmp/tmp1xtu645e/https%3A/%2Fazureopendatastorage.azurefd.net/nyctlc/green/puYear=2015/puMonth=12/part-00020-tid-4753095944193949832-fee7e113-666d-4114-9fcb-bcd3046479f3-2590-1.c000.snappy.parquet\n"
          ]
        },
        {
          "output_type": "execute_result",
          "execution_count": 3,
          "data": {
            "text/plain": "         vendorID  lpepPickupDatetime lpepDropoffDatetime  passengerCount  \\\n517387          1 2015-01-18 14:04:26 2015-01-18 14:16:26               2   \n448706          1 2015-01-30 23:45:52 2015-01-30 23:48:39               1   \n535743          1 2015-01-18 19:46:31 2015-01-18 19:55:38               1   \n1131617         1 2015-01-17 22:44:33 2015-01-17 23:01:55               2   \n1001839         2 2015-01-25 11:38:32 2015-01-25 11:51:47               1   \n676447          1 2015-01-11 11:00:10 2015-01-11 11:04:12               1   \n702642          2 2015-01-15 15:00:07 2015-01-15 15:06:36               1   \n1352499         1 2015-01-21 07:27:28 2015-01-21 07:39:34               1   \n109512          2 2015-01-12 03:32:12 2015-01-12 03:40:30               5   \n396145          2 2015-01-19 08:43:06 2015-01-19 08:53:25               3   \n\n         tripDistance puLocationId doLocationId  pickupLongitude  \\\n517387           2.10         None         None       -73.892593   \n448706           0.90         None         None       -73.893097   \n535743           2.50         None         None         0.000000   \n1131617          7.80         None         None       -73.981430   \n1001839          3.39         None         None       -73.954796   \n676447           0.80         None         None       -73.901276   \n702642           0.84         None         None       -73.919891   \n1352499          1.20         None         None       -73.938538   \n109512           2.28         None         None       -73.903389   \n396145           2.44         None         None       -73.830559   \n\n         pickupLatitude  dropoffLongitude  ...  extra  mtaTax  \\\n517387        40.746773        -73.927452  ...    0.0     0.5   \n448706        40.861992        -73.889069  ...    0.5     0.5   \n535743         0.000000        -73.990929  ...    0.0     0.5   \n1131617       40.690090        -73.957825  ...    0.5     0.5   \n1001839       40.800297        -73.976944  ...    0.0     0.5   \n676447        40.847397        -73.902657  ...    0.0     0.5   \n702642        40.766167        -73.928215  ...    0.0     0.5   \n1352499       40.804932        -73.941757  ...    0.0     0.5   \n109512        40.745380        -73.890388  ...    0.5     0.5   \n396145        40.759506        -73.792664  ...    0.0     0.5   \n\n        improvementSurcharge  tipAmount  tollsAmount  ehailFee  totalAmount  \\\n517387                   0.3       0.00          0.0       NaN        10.80   \n448706                   0.3       0.00          0.0       NaN         5.80   \n535743                   0.3       0.00          0.0       NaN        10.80   \n1131617                  0.3       4.95          0.0       NaN        29.75   \n1001839                  0.3       0.00          0.0       NaN        13.80   \n676447                   0.3       0.00          0.0       NaN         5.80   \n702642                   0.3       0.00          0.0       NaN         6.80   \n1352499                  0.3       0.00          0.0       NaN         9.80   \n109512                   0.3       0.00          0.0       NaN        10.30   \n396145                   0.3       0.00          0.0       NaN        10.80   \n\n        tripType  puYear  puMonth  \n517387       1.0    2015        1  \n448706       1.0    2015        1  \n535743       1.0    2015        1  \n1131617      1.0    2015        1  \n1001839      1.0    2015        1  \n676447       1.0    2015        1  \n702642       1.0    2015        1  \n1352499      1.0    2015        1  \n109512       1.0    2015        1  \n396145       1.0    2015        1  \n\n[10 rows x 25 columns]",
            "text/html": "<div>\n<style scoped>\n    .dataframe tbody tr th:only-of-type {\n        vertical-align: middle;\n    }\n\n    .dataframe tbody tr th {\n        vertical-align: top;\n    }\n\n    .dataframe thead th {\n        text-align: right;\n    }\n</style>\n<table border=\"1\" class=\"dataframe\">\n  <thead>\n    <tr style=\"text-align: right;\">\n      <th></th>\n      <th>vendorID</th>\n      <th>lpepPickupDatetime</th>\n      <th>lpepDropoffDatetime</th>\n      <th>passengerCount</th>\n      <th>tripDistance</th>\n      <th>puLocationId</th>\n      <th>doLocationId</th>\n      <th>pickupLongitude</th>\n      <th>pickupLatitude</th>\n      <th>dropoffLongitude</th>\n      <th>...</th>\n      <th>extra</th>\n      <th>mtaTax</th>\n      <th>improvementSurcharge</th>\n      <th>tipAmount</th>\n      <th>tollsAmount</th>\n      <th>ehailFee</th>\n      <th>totalAmount</th>\n      <th>tripType</th>\n      <th>puYear</th>\n      <th>puMonth</th>\n    </tr>\n  </thead>\n  <tbody>\n    <tr>\n      <th>517387</th>\n      <td>1</td>\n      <td>2015-01-18 14:04:26</td>\n      <td>2015-01-18 14:16:26</td>\n      <td>2</td>\n      <td>2.10</td>\n      <td>None</td>\n      <td>None</td>\n      <td>-73.892593</td>\n      <td>40.746773</td>\n      <td>-73.927452</td>\n      <td>...</td>\n      <td>0.0</td>\n      <td>0.5</td>\n      <td>0.3</td>\n      <td>0.00</td>\n      <td>0.0</td>\n      <td>NaN</td>\n      <td>10.80</td>\n      <td>1.0</td>\n      <td>2015</td>\n      <td>1</td>\n    </tr>\n    <tr>\n      <th>448706</th>\n      <td>1</td>\n      <td>2015-01-30 23:45:52</td>\n      <td>2015-01-30 23:48:39</td>\n      <td>1</td>\n      <td>0.90</td>\n      <td>None</td>\n      <td>None</td>\n      <td>-73.893097</td>\n      <td>40.861992</td>\n      <td>-73.889069</td>\n      <td>...</td>\n      <td>0.5</td>\n      <td>0.5</td>\n      <td>0.3</td>\n      <td>0.00</td>\n      <td>0.0</td>\n      <td>NaN</td>\n      <td>5.80</td>\n      <td>1.0</td>\n      <td>2015</td>\n      <td>1</td>\n    </tr>\n    <tr>\n      <th>535743</th>\n      <td>1</td>\n      <td>2015-01-18 19:46:31</td>\n      <td>2015-01-18 19:55:38</td>\n      <td>1</td>\n      <td>2.50</td>\n      <td>None</td>\n      <td>None</td>\n      <td>0.000000</td>\n      <td>0.000000</td>\n      <td>-73.990929</td>\n      <td>...</td>\n      <td>0.0</td>\n      <td>0.5</td>\n      <td>0.3</td>\n      <td>0.00</td>\n      <td>0.0</td>\n      <td>NaN</td>\n      <td>10.80</td>\n      <td>1.0</td>\n      <td>2015</td>\n      <td>1</td>\n    </tr>\n    <tr>\n      <th>1131617</th>\n      <td>1</td>\n      <td>2015-01-17 22:44:33</td>\n      <td>2015-01-17 23:01:55</td>\n      <td>2</td>\n      <td>7.80</td>\n      <td>None</td>\n      <td>None</td>\n      <td>-73.981430</td>\n      <td>40.690090</td>\n      <td>-73.957825</td>\n      <td>...</td>\n      <td>0.5</td>\n      <td>0.5</td>\n      <td>0.3</td>\n      <td>4.95</td>\n      <td>0.0</td>\n      <td>NaN</td>\n      <td>29.75</td>\n      <td>1.0</td>\n      <td>2015</td>\n      <td>1</td>\n    </tr>\n    <tr>\n      <th>1001839</th>\n      <td>2</td>\n      <td>2015-01-25 11:38:32</td>\n      <td>2015-01-25 11:51:47</td>\n      <td>1</td>\n      <td>3.39</td>\n      <td>None</td>\n      <td>None</td>\n      <td>-73.954796</td>\n      <td>40.800297</td>\n      <td>-73.976944</td>\n      <td>...</td>\n      <td>0.0</td>\n      <td>0.5</td>\n      <td>0.3</td>\n      <td>0.00</td>\n      <td>0.0</td>\n      <td>NaN</td>\n      <td>13.80</td>\n      <td>1.0</td>\n      <td>2015</td>\n      <td>1</td>\n    </tr>\n    <tr>\n      <th>676447</th>\n      <td>1</td>\n      <td>2015-01-11 11:00:10</td>\n      <td>2015-01-11 11:04:12</td>\n      <td>1</td>\n      <td>0.80</td>\n      <td>None</td>\n      <td>None</td>\n      <td>-73.901276</td>\n      <td>40.847397</td>\n      <td>-73.902657</td>\n      <td>...</td>\n      <td>0.0</td>\n      <td>0.5</td>\n      <td>0.3</td>\n      <td>0.00</td>\n      <td>0.0</td>\n      <td>NaN</td>\n      <td>5.80</td>\n      <td>1.0</td>\n      <td>2015</td>\n      <td>1</td>\n    </tr>\n    <tr>\n      <th>702642</th>\n      <td>2</td>\n      <td>2015-01-15 15:00:07</td>\n      <td>2015-01-15 15:06:36</td>\n      <td>1</td>\n      <td>0.84</td>\n      <td>None</td>\n      <td>None</td>\n      <td>-73.919891</td>\n      <td>40.766167</td>\n      <td>-73.928215</td>\n      <td>...</td>\n      <td>0.0</td>\n      <td>0.5</td>\n      <td>0.3</td>\n      <td>0.00</td>\n      <td>0.0</td>\n      <td>NaN</td>\n      <td>6.80</td>\n      <td>1.0</td>\n      <td>2015</td>\n      <td>1</td>\n    </tr>\n    <tr>\n      <th>1352499</th>\n      <td>1</td>\n      <td>2015-01-21 07:27:28</td>\n      <td>2015-01-21 07:39:34</td>\n      <td>1</td>\n      <td>1.20</td>\n      <td>None</td>\n      <td>None</td>\n      <td>-73.938538</td>\n      <td>40.804932</td>\n      <td>-73.941757</td>\n      <td>...</td>\n      <td>0.0</td>\n      <td>0.5</td>\n      <td>0.3</td>\n      <td>0.00</td>\n      <td>0.0</td>\n      <td>NaN</td>\n      <td>9.80</td>\n      <td>1.0</td>\n      <td>2015</td>\n      <td>1</td>\n    </tr>\n    <tr>\n      <th>109512</th>\n      <td>2</td>\n      <td>2015-01-12 03:32:12</td>\n      <td>2015-01-12 03:40:30</td>\n      <td>5</td>\n      <td>2.28</td>\n      <td>None</td>\n      <td>None</td>\n      <td>-73.903389</td>\n      <td>40.745380</td>\n      <td>-73.890388</td>\n      <td>...</td>\n      <td>0.5</td>\n      <td>0.5</td>\n      <td>0.3</td>\n      <td>0.00</td>\n      <td>0.0</td>\n      <td>NaN</td>\n      <td>10.30</td>\n      <td>1.0</td>\n      <td>2015</td>\n      <td>1</td>\n    </tr>\n    <tr>\n      <th>396145</th>\n      <td>2</td>\n      <td>2015-01-19 08:43:06</td>\n      <td>2015-01-19 08:53:25</td>\n      <td>3</td>\n      <td>2.44</td>\n      <td>None</td>\n      <td>None</td>\n      <td>-73.830559</td>\n      <td>40.759506</td>\n      <td>-73.792664</td>\n      <td>...</td>\n      <td>0.0</td>\n      <td>0.5</td>\n      <td>0.3</td>\n      <td>0.00</td>\n      <td>0.0</td>\n      <td>NaN</td>\n      <td>10.80</td>\n      <td>1.0</td>\n      <td>2015</td>\n      <td>1</td>\n    </tr>\n  </tbody>\n</table>\n<p>10 rows × 25 columns</p>\n</div>"
          },
          "metadata": {}
        }
      ],
      "execution_count": 3,
      "metadata": {
        "collapsed": true,
        "jupyter": {
          "source_hidden": false,
          "outputs_hidden": false
        },
        "nteract": {
          "transient": {
            "deleting": false
          }
        },
        "gather": {
          "logged": 1603999176396
        }
      }
    },
    {
      "cell_type": "code",
      "source": [
        "def build_time_features(vector):\n",
        "    pickup_datetime = vector[0]\n",
        "    month_num = pickup_datetime.month\n",
        "    day_of_month = pickup_datetime.day\n",
        "    day_of_week = pickup_datetime.weekday()\n",
        "    hour_of_day = pickup_datetime.hour\n",
        "\n",
        "    return pd.Series((month_num, day_of_month, day_of_week, hour_of_day))\n",
        "\n",
        "green_taxi_df[[\"month_num\", \"day_of_month\",\"day_of_week\", \"hour_of_day\"]] = green_taxi_df[[\"lpepPickupDatetime\"]].apply(build_time_features, axis=1)\n",
        "green_taxi_df.head(10)"
      ],
      "outputs": [
        {
          "output_type": "execute_result",
          "execution_count": 4,
          "data": {
            "text/plain": "         vendorID  lpepPickupDatetime lpepDropoffDatetime  passengerCount  \\\n517387          1 2015-01-18 14:04:26 2015-01-18 14:16:26               2   \n448706          1 2015-01-30 23:45:52 2015-01-30 23:48:39               1   \n535743          1 2015-01-18 19:46:31 2015-01-18 19:55:38               1   \n1131617         1 2015-01-17 22:44:33 2015-01-17 23:01:55               2   \n1001839         2 2015-01-25 11:38:32 2015-01-25 11:51:47               1   \n676447          1 2015-01-11 11:00:10 2015-01-11 11:04:12               1   \n702642          2 2015-01-15 15:00:07 2015-01-15 15:06:36               1   \n1352499         1 2015-01-21 07:27:28 2015-01-21 07:39:34               1   \n109512          2 2015-01-12 03:32:12 2015-01-12 03:40:30               5   \n396145          2 2015-01-19 08:43:06 2015-01-19 08:53:25               3   \n\n         tripDistance puLocationId doLocationId  pickupLongitude  \\\n517387           2.10         None         None       -73.892593   \n448706           0.90         None         None       -73.893097   \n535743           2.50         None         None         0.000000   \n1131617          7.80         None         None       -73.981430   \n1001839          3.39         None         None       -73.954796   \n676447           0.80         None         None       -73.901276   \n702642           0.84         None         None       -73.919891   \n1352499          1.20         None         None       -73.938538   \n109512           2.28         None         None       -73.903389   \n396145           2.44         None         None       -73.830559   \n\n         pickupLatitude  dropoffLongitude  ...  tollsAmount  ehailFee  \\\n517387        40.746773        -73.927452  ...          0.0       NaN   \n448706        40.861992        -73.889069  ...          0.0       NaN   \n535743         0.000000        -73.990929  ...          0.0       NaN   \n1131617       40.690090        -73.957825  ...          0.0       NaN   \n1001839       40.800297        -73.976944  ...          0.0       NaN   \n676447        40.847397        -73.902657  ...          0.0       NaN   \n702642        40.766167        -73.928215  ...          0.0       NaN   \n1352499       40.804932        -73.941757  ...          0.0       NaN   \n109512        40.745380        -73.890388  ...          0.0       NaN   \n396145        40.759506        -73.792664  ...          0.0       NaN   \n\n        totalAmount  tripType  puYear  puMonth  month_num day_of_month  \\\n517387        10.80       1.0    2015        1          1           18   \n448706         5.80       1.0    2015        1          1           30   \n535743        10.80       1.0    2015        1          1           18   \n1131617       29.75       1.0    2015        1          1           17   \n1001839       13.80       1.0    2015        1          1           25   \n676447         5.80       1.0    2015        1          1           11   \n702642         6.80       1.0    2015        1          1           15   \n1352499        9.80       1.0    2015        1          1           21   \n109512        10.30       1.0    2015        1          1           12   \n396145        10.80       1.0    2015        1          1           19   \n\n         day_of_week  hour_of_day  \n517387             6           14  \n448706             4           23  \n535743             6           19  \n1131617            5           22  \n1001839            6           11  \n676447             6           11  \n702642             3           15  \n1352499            2            7  \n109512             0            3  \n396145             0            8  \n\n[10 rows x 29 columns]",
            "text/html": "<div>\n<style scoped>\n    .dataframe tbody tr th:only-of-type {\n        vertical-align: middle;\n    }\n\n    .dataframe tbody tr th {\n        vertical-align: top;\n    }\n\n    .dataframe thead th {\n        text-align: right;\n    }\n</style>\n<table border=\"1\" class=\"dataframe\">\n  <thead>\n    <tr style=\"text-align: right;\">\n      <th></th>\n      <th>vendorID</th>\n      <th>lpepPickupDatetime</th>\n      <th>lpepDropoffDatetime</th>\n      <th>passengerCount</th>\n      <th>tripDistance</th>\n      <th>puLocationId</th>\n      <th>doLocationId</th>\n      <th>pickupLongitude</th>\n      <th>pickupLatitude</th>\n      <th>dropoffLongitude</th>\n      <th>...</th>\n      <th>tollsAmount</th>\n      <th>ehailFee</th>\n      <th>totalAmount</th>\n      <th>tripType</th>\n      <th>puYear</th>\n      <th>puMonth</th>\n      <th>month_num</th>\n      <th>day_of_month</th>\n      <th>day_of_week</th>\n      <th>hour_of_day</th>\n    </tr>\n  </thead>\n  <tbody>\n    <tr>\n      <th>517387</th>\n      <td>1</td>\n      <td>2015-01-18 14:04:26</td>\n      <td>2015-01-18 14:16:26</td>\n      <td>2</td>\n      <td>2.10</td>\n      <td>None</td>\n      <td>None</td>\n      <td>-73.892593</td>\n      <td>40.746773</td>\n      <td>-73.927452</td>\n      <td>...</td>\n      <td>0.0</td>\n      <td>NaN</td>\n      <td>10.80</td>\n      <td>1.0</td>\n      <td>2015</td>\n      <td>1</td>\n      <td>1</td>\n      <td>18</td>\n      <td>6</td>\n      <td>14</td>\n    </tr>\n    <tr>\n      <th>448706</th>\n      <td>1</td>\n      <td>2015-01-30 23:45:52</td>\n      <td>2015-01-30 23:48:39</td>\n      <td>1</td>\n      <td>0.90</td>\n      <td>None</td>\n      <td>None</td>\n      <td>-73.893097</td>\n      <td>40.861992</td>\n      <td>-73.889069</td>\n      <td>...</td>\n      <td>0.0</td>\n      <td>NaN</td>\n      <td>5.80</td>\n      <td>1.0</td>\n      <td>2015</td>\n      <td>1</td>\n      <td>1</td>\n      <td>30</td>\n      <td>4</td>\n      <td>23</td>\n    </tr>\n    <tr>\n      <th>535743</th>\n      <td>1</td>\n      <td>2015-01-18 19:46:31</td>\n      <td>2015-01-18 19:55:38</td>\n      <td>1</td>\n      <td>2.50</td>\n      <td>None</td>\n      <td>None</td>\n      <td>0.000000</td>\n      <td>0.000000</td>\n      <td>-73.990929</td>\n      <td>...</td>\n      <td>0.0</td>\n      <td>NaN</td>\n      <td>10.80</td>\n      <td>1.0</td>\n      <td>2015</td>\n      <td>1</td>\n      <td>1</td>\n      <td>18</td>\n      <td>6</td>\n      <td>19</td>\n    </tr>\n    <tr>\n      <th>1131617</th>\n      <td>1</td>\n      <td>2015-01-17 22:44:33</td>\n      <td>2015-01-17 23:01:55</td>\n      <td>2</td>\n      <td>7.80</td>\n      <td>None</td>\n      <td>None</td>\n      <td>-73.981430</td>\n      <td>40.690090</td>\n      <td>-73.957825</td>\n      <td>...</td>\n      <td>0.0</td>\n      <td>NaN</td>\n      <td>29.75</td>\n      <td>1.0</td>\n      <td>2015</td>\n      <td>1</td>\n      <td>1</td>\n      <td>17</td>\n      <td>5</td>\n      <td>22</td>\n    </tr>\n    <tr>\n      <th>1001839</th>\n      <td>2</td>\n      <td>2015-01-25 11:38:32</td>\n      <td>2015-01-25 11:51:47</td>\n      <td>1</td>\n      <td>3.39</td>\n      <td>None</td>\n      <td>None</td>\n      <td>-73.954796</td>\n      <td>40.800297</td>\n      <td>-73.976944</td>\n      <td>...</td>\n      <td>0.0</td>\n      <td>NaN</td>\n      <td>13.80</td>\n      <td>1.0</td>\n      <td>2015</td>\n      <td>1</td>\n      <td>1</td>\n      <td>25</td>\n      <td>6</td>\n      <td>11</td>\n    </tr>\n    <tr>\n      <th>676447</th>\n      <td>1</td>\n      <td>2015-01-11 11:00:10</td>\n      <td>2015-01-11 11:04:12</td>\n      <td>1</td>\n      <td>0.80</td>\n      <td>None</td>\n      <td>None</td>\n      <td>-73.901276</td>\n      <td>40.847397</td>\n      <td>-73.902657</td>\n      <td>...</td>\n      <td>0.0</td>\n      <td>NaN</td>\n      <td>5.80</td>\n      <td>1.0</td>\n      <td>2015</td>\n      <td>1</td>\n      <td>1</td>\n      <td>11</td>\n      <td>6</td>\n      <td>11</td>\n    </tr>\n    <tr>\n      <th>702642</th>\n      <td>2</td>\n      <td>2015-01-15 15:00:07</td>\n      <td>2015-01-15 15:06:36</td>\n      <td>1</td>\n      <td>0.84</td>\n      <td>None</td>\n      <td>None</td>\n      <td>-73.919891</td>\n      <td>40.766167</td>\n      <td>-73.928215</td>\n      <td>...</td>\n      <td>0.0</td>\n      <td>NaN</td>\n      <td>6.80</td>\n      <td>1.0</td>\n      <td>2015</td>\n      <td>1</td>\n      <td>1</td>\n      <td>15</td>\n      <td>3</td>\n      <td>15</td>\n    </tr>\n    <tr>\n      <th>1352499</th>\n      <td>1</td>\n      <td>2015-01-21 07:27:28</td>\n      <td>2015-01-21 07:39:34</td>\n      <td>1</td>\n      <td>1.20</td>\n      <td>None</td>\n      <td>None</td>\n      <td>-73.938538</td>\n      <td>40.804932</td>\n      <td>-73.941757</td>\n      <td>...</td>\n      <td>0.0</td>\n      <td>NaN</td>\n      <td>9.80</td>\n      <td>1.0</td>\n      <td>2015</td>\n      <td>1</td>\n      <td>1</td>\n      <td>21</td>\n      <td>2</td>\n      <td>7</td>\n    </tr>\n    <tr>\n      <th>109512</th>\n      <td>2</td>\n      <td>2015-01-12 03:32:12</td>\n      <td>2015-01-12 03:40:30</td>\n      <td>5</td>\n      <td>2.28</td>\n      <td>None</td>\n      <td>None</td>\n      <td>-73.903389</td>\n      <td>40.745380</td>\n      <td>-73.890388</td>\n      <td>...</td>\n      <td>0.0</td>\n      <td>NaN</td>\n      <td>10.30</td>\n      <td>1.0</td>\n      <td>2015</td>\n      <td>1</td>\n      <td>1</td>\n      <td>12</td>\n      <td>0</td>\n      <td>3</td>\n    </tr>\n    <tr>\n      <th>396145</th>\n      <td>2</td>\n      <td>2015-01-19 08:43:06</td>\n      <td>2015-01-19 08:53:25</td>\n      <td>3</td>\n      <td>2.44</td>\n      <td>None</td>\n      <td>None</td>\n      <td>-73.830559</td>\n      <td>40.759506</td>\n      <td>-73.792664</td>\n      <td>...</td>\n      <td>0.0</td>\n      <td>NaN</td>\n      <td>10.80</td>\n      <td>1.0</td>\n      <td>2015</td>\n      <td>1</td>\n      <td>1</td>\n      <td>19</td>\n      <td>0</td>\n      <td>8</td>\n    </tr>\n  </tbody>\n</table>\n<p>10 rows × 29 columns</p>\n</div>"
          },
          "metadata": {}
        }
      ],
      "execution_count": 4,
      "metadata": {
        "collapsed": true,
        "jupyter": {
          "source_hidden": false,
          "outputs_hidden": false
        },
        "nteract": {
          "transient": {
            "deleting": false
          }
        },
        "gather": {
          "logged": 1603999254380
        }
      }
    },
    {
      "cell_type": "code",
      "source": [
        "columns_to_remove = [\"lpepPickupDatetime\", \"lpepDropoffDatetime\", \"puLocationId\", \"doLocationId\", \"extra\", \"mtaTax\",\n",
        "                     \"improvementSurcharge\", \"tollsAmount\", \"ehailFee\", \"tripType\", \"rateCodeID\",\n",
        "                     \"storeAndFwdFlag\", \"paymentType\", \"fareAmount\", \"tipAmount\"\n",
        "                    ]\n",
        "for col in columns_to_remove:\n",
        "    green_taxi_df.pop(col)\n",
        "\n",
        "green_taxi_df.head(5)"
      ],
      "outputs": [
        {
          "output_type": "execute_result",
          "execution_count": 5,
          "data": {
            "text/plain": "         vendorID  passengerCount  tripDistance  pickupLongitude  \\\n517387          1               2          2.10       -73.892593   \n448706          1               1          0.90       -73.893097   \n535743          1               1          2.50         0.000000   \n1131617         1               2          7.80       -73.981430   \n1001839         2               1          3.39       -73.954796   \n\n         pickupLatitude  dropoffLongitude  dropoffLatitude  totalAmount  \\\n517387        40.746773        -73.927452        40.752663        10.80   \n448706        40.861992        -73.889069        40.871056         5.80   \n535743         0.000000        -73.990929        40.717270        10.80   \n1131617       40.690090        -73.957825        40.765186        29.75   \n1001839       40.800297        -73.976944        40.759140        13.80   \n\n         puYear  puMonth  month_num  day_of_month  day_of_week  hour_of_day  \n517387     2015        1          1            18            6           14  \n448706     2015        1          1            30            4           23  \n535743     2015        1          1            18            6           19  \n1131617    2015        1          1            17            5           22  \n1001839    2015        1          1            25            6           11  ",
            "text/html": "<div>\n<style scoped>\n    .dataframe tbody tr th:only-of-type {\n        vertical-align: middle;\n    }\n\n    .dataframe tbody tr th {\n        vertical-align: top;\n    }\n\n    .dataframe thead th {\n        text-align: right;\n    }\n</style>\n<table border=\"1\" class=\"dataframe\">\n  <thead>\n    <tr style=\"text-align: right;\">\n      <th></th>\n      <th>vendorID</th>\n      <th>passengerCount</th>\n      <th>tripDistance</th>\n      <th>pickupLongitude</th>\n      <th>pickupLatitude</th>\n      <th>dropoffLongitude</th>\n      <th>dropoffLatitude</th>\n      <th>totalAmount</th>\n      <th>puYear</th>\n      <th>puMonth</th>\n      <th>month_num</th>\n      <th>day_of_month</th>\n      <th>day_of_week</th>\n      <th>hour_of_day</th>\n    </tr>\n  </thead>\n  <tbody>\n    <tr>\n      <th>517387</th>\n      <td>1</td>\n      <td>2</td>\n      <td>2.10</td>\n      <td>-73.892593</td>\n      <td>40.746773</td>\n      <td>-73.927452</td>\n      <td>40.752663</td>\n      <td>10.80</td>\n      <td>2015</td>\n      <td>1</td>\n      <td>1</td>\n      <td>18</td>\n      <td>6</td>\n      <td>14</td>\n    </tr>\n    <tr>\n      <th>448706</th>\n      <td>1</td>\n      <td>1</td>\n      <td>0.90</td>\n      <td>-73.893097</td>\n      <td>40.861992</td>\n      <td>-73.889069</td>\n      <td>40.871056</td>\n      <td>5.80</td>\n      <td>2015</td>\n      <td>1</td>\n      <td>1</td>\n      <td>30</td>\n      <td>4</td>\n      <td>23</td>\n    </tr>\n    <tr>\n      <th>535743</th>\n      <td>1</td>\n      <td>1</td>\n      <td>2.50</td>\n      <td>0.000000</td>\n      <td>0.000000</td>\n      <td>-73.990929</td>\n      <td>40.717270</td>\n      <td>10.80</td>\n      <td>2015</td>\n      <td>1</td>\n      <td>1</td>\n      <td>18</td>\n      <td>6</td>\n      <td>19</td>\n    </tr>\n    <tr>\n      <th>1131617</th>\n      <td>1</td>\n      <td>2</td>\n      <td>7.80</td>\n      <td>-73.981430</td>\n      <td>40.690090</td>\n      <td>-73.957825</td>\n      <td>40.765186</td>\n      <td>29.75</td>\n      <td>2015</td>\n      <td>1</td>\n      <td>1</td>\n      <td>17</td>\n      <td>5</td>\n      <td>22</td>\n    </tr>\n    <tr>\n      <th>1001839</th>\n      <td>2</td>\n      <td>1</td>\n      <td>3.39</td>\n      <td>-73.954796</td>\n      <td>40.800297</td>\n      <td>-73.976944</td>\n      <td>40.759140</td>\n      <td>13.80</td>\n      <td>2015</td>\n      <td>1</td>\n      <td>1</td>\n      <td>25</td>\n      <td>6</td>\n      <td>11</td>\n    </tr>\n  </tbody>\n</table>\n</div>"
          },
          "metadata": {}
        }
      ],
      "execution_count": 5,
      "metadata": {
        "collapsed": true,
        "jupyter": {
          "source_hidden": false,
          "outputs_hidden": false
        },
        "nteract": {
          "transient": {
            "deleting": false
          }
        },
        "gather": {
          "logged": 1603999262720
        }
      }
    },
    {
      "cell_type": "code",
      "source": [
        "green_taxi_df.describe()"
      ],
      "outputs": [
        {
          "output_type": "execute_result",
          "execution_count": 6,
          "data": {
            "text/plain": "           vendorID  passengerCount  tripDistance  pickupLongitude  \\\ncount  24000.000000    24000.000000  24000.000000     24000.000000   \nmean       1.776708        1.372833      2.861995       -73.843040   \nstd        0.416461        1.047556      2.932007         2.612773   \nmin        1.000000        0.000000      0.000000       -74.469482   \n25%        2.000000        1.000000      1.060000       -73.959513   \n50%        2.000000        1.000000      1.900000       -73.945084   \n75%        2.000000        1.000000      3.600000       -73.917557   \nmax        2.000000        9.000000     59.680000         0.000000   \n\n       pickupLatitude  dropoffLongitude  dropoffLatitude   totalAmount  \\\ncount    24000.000000      24000.000000     24000.000000  24000.000000   \nmean        40.698571        -73.848205        40.699980     14.707381   \nstd          1.440982          2.524419         1.392243     11.691377   \nmin          0.000000        -74.469315         0.000000   -150.800000   \n25%         40.699276        -73.967346        40.699932      7.800000   \n50%         40.746887        -73.944790        40.747677     11.300000   \n75%         40.803762        -73.910057        40.793713     17.800000   \nmax         41.125702          0.000000        41.149281    450.000000   \n\n        puYear       puMonth     month_num  day_of_month   day_of_week  \\\ncount  24000.0  24000.000000  24000.000000  24000.000000  24000.000000   \nmean    2015.0      6.500000      6.500000     15.188833      3.269375   \nstd        0.0      3.452124      3.452124      8.488257      1.967754   \nmin     2015.0      1.000000      1.000000      1.000000      0.000000   \n25%     2015.0      3.750000      3.750000      8.000000      2.000000   \n50%     2015.0      6.500000      6.500000     15.000000      3.000000   \n75%     2015.0      9.250000      9.250000     22.000000      5.000000   \nmax     2015.0     12.000000     12.000000     30.000000      6.000000   \n\n        hour_of_day  \ncount  24000.000000  \nmean      13.574083  \nstd        6.810808  \nmin        0.000000  \n25%        9.000000  \n50%       15.000000  \n75%       19.000000  \nmax       23.000000  ",
            "text/html": "<div>\n<style scoped>\n    .dataframe tbody tr th:only-of-type {\n        vertical-align: middle;\n    }\n\n    .dataframe tbody tr th {\n        vertical-align: top;\n    }\n\n    .dataframe thead th {\n        text-align: right;\n    }\n</style>\n<table border=\"1\" class=\"dataframe\">\n  <thead>\n    <tr style=\"text-align: right;\">\n      <th></th>\n      <th>vendorID</th>\n      <th>passengerCount</th>\n      <th>tripDistance</th>\n      <th>pickupLongitude</th>\n      <th>pickupLatitude</th>\n      <th>dropoffLongitude</th>\n      <th>dropoffLatitude</th>\n      <th>totalAmount</th>\n      <th>puYear</th>\n      <th>puMonth</th>\n      <th>month_num</th>\n      <th>day_of_month</th>\n      <th>day_of_week</th>\n      <th>hour_of_day</th>\n    </tr>\n  </thead>\n  <tbody>\n    <tr>\n      <th>count</th>\n      <td>24000.000000</td>\n      <td>24000.000000</td>\n      <td>24000.000000</td>\n      <td>24000.000000</td>\n      <td>24000.000000</td>\n      <td>24000.000000</td>\n      <td>24000.000000</td>\n      <td>24000.000000</td>\n      <td>24000.0</td>\n      <td>24000.000000</td>\n      <td>24000.000000</td>\n      <td>24000.000000</td>\n      <td>24000.000000</td>\n      <td>24000.000000</td>\n    </tr>\n    <tr>\n      <th>mean</th>\n      <td>1.776708</td>\n      <td>1.372833</td>\n      <td>2.861995</td>\n      <td>-73.843040</td>\n      <td>40.698571</td>\n      <td>-73.848205</td>\n      <td>40.699980</td>\n      <td>14.707381</td>\n      <td>2015.0</td>\n      <td>6.500000</td>\n      <td>6.500000</td>\n      <td>15.188833</td>\n      <td>3.269375</td>\n      <td>13.574083</td>\n    </tr>\n    <tr>\n      <th>std</th>\n      <td>0.416461</td>\n      <td>1.047556</td>\n      <td>2.932007</td>\n      <td>2.612773</td>\n      <td>1.440982</td>\n      <td>2.524419</td>\n      <td>1.392243</td>\n      <td>11.691377</td>\n      <td>0.0</td>\n      <td>3.452124</td>\n      <td>3.452124</td>\n      <td>8.488257</td>\n      <td>1.967754</td>\n      <td>6.810808</td>\n    </tr>\n    <tr>\n      <th>min</th>\n      <td>1.000000</td>\n      <td>0.000000</td>\n      <td>0.000000</td>\n      <td>-74.469482</td>\n      <td>0.000000</td>\n      <td>-74.469315</td>\n      <td>0.000000</td>\n      <td>-150.800000</td>\n      <td>2015.0</td>\n      <td>1.000000</td>\n      <td>1.000000</td>\n      <td>1.000000</td>\n      <td>0.000000</td>\n      <td>0.000000</td>\n    </tr>\n    <tr>\n      <th>25%</th>\n      <td>2.000000</td>\n      <td>1.000000</td>\n      <td>1.060000</td>\n      <td>-73.959513</td>\n      <td>40.699276</td>\n      <td>-73.967346</td>\n      <td>40.699932</td>\n      <td>7.800000</td>\n      <td>2015.0</td>\n      <td>3.750000</td>\n      <td>3.750000</td>\n      <td>8.000000</td>\n      <td>2.000000</td>\n      <td>9.000000</td>\n    </tr>\n    <tr>\n      <th>50%</th>\n      <td>2.000000</td>\n      <td>1.000000</td>\n      <td>1.900000</td>\n      <td>-73.945084</td>\n      <td>40.746887</td>\n      <td>-73.944790</td>\n      <td>40.747677</td>\n      <td>11.300000</td>\n      <td>2015.0</td>\n      <td>6.500000</td>\n      <td>6.500000</td>\n      <td>15.000000</td>\n      <td>3.000000</td>\n      <td>15.000000</td>\n    </tr>\n    <tr>\n      <th>75%</th>\n      <td>2.000000</td>\n      <td>1.000000</td>\n      <td>3.600000</td>\n      <td>-73.917557</td>\n      <td>40.803762</td>\n      <td>-73.910057</td>\n      <td>40.793713</td>\n      <td>17.800000</td>\n      <td>2015.0</td>\n      <td>9.250000</td>\n      <td>9.250000</td>\n      <td>22.000000</td>\n      <td>5.000000</td>\n      <td>19.000000</td>\n    </tr>\n    <tr>\n      <th>max</th>\n      <td>2.000000</td>\n      <td>9.000000</td>\n      <td>59.680000</td>\n      <td>0.000000</td>\n      <td>41.125702</td>\n      <td>0.000000</td>\n      <td>41.149281</td>\n      <td>450.000000</td>\n      <td>2015.0</td>\n      <td>12.000000</td>\n      <td>12.000000</td>\n      <td>30.000000</td>\n      <td>6.000000</td>\n      <td>23.000000</td>\n    </tr>\n  </tbody>\n</table>\n</div>"
          },
          "metadata": {}
        }
      ],
      "execution_count": 6,
      "metadata": {
        "collapsed": true,
        "jupyter": {
          "source_hidden": false,
          "outputs_hidden": false
        },
        "nteract": {
          "transient": {
            "deleting": false
          }
        },
        "gather": {
          "logged": 1603999267835
        }
      }
    },
    {
      "cell_type": "code",
      "source": [
        "final_df = green_taxi_df.query(\"pickupLatitude>=40.53 and pickupLatitude<=40.88\")\n",
        "final_df = final_df.query(\"pickupLongitude>=-74.09 and pickupLongitude<=-73.72\")\n",
        "final_df = final_df.query(\"tripDistance>=0.25 and tripDistance<31\")\n",
        "final_df = final_df.query(\"passengerCount>0 and totalAmount>0\")\n",
        "\n",
        "columns_to_remove_for_training = [\"pickupLongitude\", \"pickupLatitude\", \"dropoffLongitude\", \"dropoffLatitude\"]\n",
        "for col in columns_to_remove_for_training:\n",
        "    final_df.pop(col)"
      ],
      "outputs": [],
      "execution_count": 7,
      "metadata": {
        "collapsed": true,
        "jupyter": {
          "source_hidden": false,
          "outputs_hidden": false
        },
        "nteract": {
          "transient": {
            "deleting": false
          }
        },
        "gather": {
          "logged": 1603999273900
        }
      }
    },
    {
      "cell_type": "code",
      "source": [
        "final_df.describe()"
      ],
      "outputs": [
        {
          "output_type": "execute_result",
          "execution_count": 8,
          "data": {
            "text/plain": "           vendorID  passengerCount  tripDistance   totalAmount   puYear  \\\ncount  23265.000000    23265.000000  23265.000000  23265.000000  23265.0   \nmean       1.777563        1.371717      2.923928     14.725871   2015.0   \nstd        0.415892        1.045710      2.873286     10.517633      0.0   \nmin        1.000000        1.000000      0.250000      0.050000   2015.0   \n25%        2.000000        1.000000      1.100000      8.160000   2015.0   \n50%        2.000000        1.000000      1.960000     11.300000   2015.0   \n75%        2.000000        1.000000      3.660000     17.800000   2015.0   \nmax        2.000000        6.000000     30.300000    250.000000   2015.0   \n\n            puMonth     month_num  day_of_month   day_of_week   hour_of_day  \ncount  23265.000000  23265.000000  23265.000000  23265.000000  23265.000000  \nmean       6.496583      6.496583     15.177950      3.275091     13.582635  \nstd        3.452692      3.452692      8.490025      1.965436      6.815028  \nmin        1.000000      1.000000      1.000000      0.000000      0.000000  \n25%        3.000000      3.000000      8.000000      2.000000      9.000000  \n50%        6.000000      6.000000     15.000000      3.000000     15.000000  \n75%        9.000000      9.000000     22.000000      5.000000     19.000000  \nmax       12.000000     12.000000     30.000000      6.000000     23.000000  ",
            "text/html": "<div>\n<style scoped>\n    .dataframe tbody tr th:only-of-type {\n        vertical-align: middle;\n    }\n\n    .dataframe tbody tr th {\n        vertical-align: top;\n    }\n\n    .dataframe thead th {\n        text-align: right;\n    }\n</style>\n<table border=\"1\" class=\"dataframe\">\n  <thead>\n    <tr style=\"text-align: right;\">\n      <th></th>\n      <th>vendorID</th>\n      <th>passengerCount</th>\n      <th>tripDistance</th>\n      <th>totalAmount</th>\n      <th>puYear</th>\n      <th>puMonth</th>\n      <th>month_num</th>\n      <th>day_of_month</th>\n      <th>day_of_week</th>\n      <th>hour_of_day</th>\n    </tr>\n  </thead>\n  <tbody>\n    <tr>\n      <th>count</th>\n      <td>23265.000000</td>\n      <td>23265.000000</td>\n      <td>23265.000000</td>\n      <td>23265.000000</td>\n      <td>23265.0</td>\n      <td>23265.000000</td>\n      <td>23265.000000</td>\n      <td>23265.000000</td>\n      <td>23265.000000</td>\n      <td>23265.000000</td>\n    </tr>\n    <tr>\n      <th>mean</th>\n      <td>1.777563</td>\n      <td>1.371717</td>\n      <td>2.923928</td>\n      <td>14.725871</td>\n      <td>2015.0</td>\n      <td>6.496583</td>\n      <td>6.496583</td>\n      <td>15.177950</td>\n      <td>3.275091</td>\n      <td>13.582635</td>\n    </tr>\n    <tr>\n      <th>std</th>\n      <td>0.415892</td>\n      <td>1.045710</td>\n      <td>2.873286</td>\n      <td>10.517633</td>\n      <td>0.0</td>\n      <td>3.452692</td>\n      <td>3.452692</td>\n      <td>8.490025</td>\n      <td>1.965436</td>\n      <td>6.815028</td>\n    </tr>\n    <tr>\n      <th>min</th>\n      <td>1.000000</td>\n      <td>1.000000</td>\n      <td>0.250000</td>\n      <td>0.050000</td>\n      <td>2015.0</td>\n      <td>1.000000</td>\n      <td>1.000000</td>\n      <td>1.000000</td>\n      <td>0.000000</td>\n      <td>0.000000</td>\n    </tr>\n    <tr>\n      <th>25%</th>\n      <td>2.000000</td>\n      <td>1.000000</td>\n      <td>1.100000</td>\n      <td>8.160000</td>\n      <td>2015.0</td>\n      <td>3.000000</td>\n      <td>3.000000</td>\n      <td>8.000000</td>\n      <td>2.000000</td>\n      <td>9.000000</td>\n    </tr>\n    <tr>\n      <th>50%</th>\n      <td>2.000000</td>\n      <td>1.000000</td>\n      <td>1.960000</td>\n      <td>11.300000</td>\n      <td>2015.0</td>\n      <td>6.000000</td>\n      <td>6.000000</td>\n      <td>15.000000</td>\n      <td>3.000000</td>\n      <td>15.000000</td>\n    </tr>\n    <tr>\n      <th>75%</th>\n      <td>2.000000</td>\n      <td>1.000000</td>\n      <td>3.660000</td>\n      <td>17.800000</td>\n      <td>2015.0</td>\n      <td>9.000000</td>\n      <td>9.000000</td>\n      <td>22.000000</td>\n      <td>5.000000</td>\n      <td>19.000000</td>\n    </tr>\n    <tr>\n      <th>max</th>\n      <td>2.000000</td>\n      <td>6.000000</td>\n      <td>30.300000</td>\n      <td>250.000000</td>\n      <td>2015.0</td>\n      <td>12.000000</td>\n      <td>12.000000</td>\n      <td>30.000000</td>\n      <td>6.000000</td>\n      <td>23.000000</td>\n    </tr>\n  </tbody>\n</table>\n</div>"
          },
          "metadata": {}
        }
      ],
      "execution_count": 8,
      "metadata": {
        "collapsed": true,
        "jupyter": {
          "source_hidden": false,
          "outputs_hidden": false
        },
        "nteract": {
          "transient": {
            "deleting": false
          }
        },
        "gather": {
          "logged": 1603999279854
        }
      }
    },
    {
      "cell_type": "code",
      "source": [
        "from azureml.core.workspace import Workspace\n",
        "ws = Workspace.from_config()\n",
        "ws"
      ],
      "outputs": [
        {
          "output_type": "execute_result",
          "execution_count": 10,
          "data": {
            "text/plain": "Workspace.create(name='automl', subscription_id='6560575d-fa06-4e7d-95fb-f962e74efd7a', resource_group='cody-eastus-rg')"
          },
          "metadata": {}
        }
      ],
      "execution_count": 10,
      "metadata": {
        "collapsed": true,
        "jupyter": {
          "source_hidden": false,
          "outputs_hidden": false
        },
        "nteract": {
          "transient": {
            "deleting": false
          }
        },
        "gather": {
          "logged": 1603999305664
        }
      }
    },
    {
      "cell_type": "code",
      "source": [
        "from sklearn.model_selection import train_test_split\n",
        "\n",
        "x_train, x_test = train_test_split(final_df, test_size=0.2, random_state=223)"
      ],
      "outputs": [],
      "execution_count": 11,
      "metadata": {
        "collapsed": true,
        "jupyter": {
          "source_hidden": false,
          "outputs_hidden": false
        },
        "nteract": {
          "transient": {
            "deleting": false
          }
        },
        "gather": {
          "logged": 1603999317099
        }
      }
    },
    {
      "cell_type": "code",
      "source": [
        "import logging\n",
        "\n",
        "automl_settings = {\n",
        "    \"iteration_timeout_minutes\": 2,\n",
        "    \"experiment_timeout_hours\": 0.3,\n",
        "    \"enable_early_stopping\": True,\n",
        "    \"primary_metric\": 'spearman_correlation',\n",
        "    \"featurization\": 'auto',\n",
        "    \"verbosity\": logging.INFO,\n",
        "    \"n_cross_validations\": 5\n",
        "}"
      ],
      "outputs": [],
      "execution_count": 12,
      "metadata": {
        "collapsed": true,
        "jupyter": {
          "source_hidden": false,
          "outputs_hidden": false
        },
        "nteract": {
          "transient": {
            "deleting": false
          }
        },
        "gather": {
          "logged": 1603999336068
        }
      }
    },
    {
      "cell_type": "code",
      "source": [
        "from azureml.train.automl import AutoMLConfig\n",
        "\n",
        "automl_config = AutoMLConfig(task='regression',\n",
        "                             debug_log='automated_ml_errors.log',\n",
        "                             training_data=x_train,\n",
        "                             label_column_name=\"totalAmount\",\n",
        "                             **automl_settings)"
      ],
      "outputs": [],
      "execution_count": 13,
      "metadata": {
        "collapsed": true,
        "jupyter": {
          "source_hidden": false,
          "outputs_hidden": false
        },
        "nteract": {
          "transient": {
            "deleting": false
          }
        },
        "gather": {
          "logged": 1603999344329
        }
      }
    },
    {
      "cell_type": "code",
      "source": [
        "from azureml.core.experiment import Experiment\n",
        "experiment = Experiment(ws, \"taxi-experiment\")\n",
        "local_run = experiment.submit(automl_config, show_output=True)"
      ],
      "outputs": [
        {
          "output_type": "stream",
          "name": "stdout",
          "text": [
            "Running on local machine\n",
            "Parent Run ID: AutoML_cc865739-2fe4-4817-ac48-d5561ac32084\n",
            "\n",
            "Current status: DatasetEvaluation. Gathering dataset statistics.\n",
            "Current status: FeaturesGeneration. Generating features for the dataset.\n",
            "Current status: DatasetFeaturization. Beginning to fit featurizers and featurize the dataset.\n",
            "Current status: DatasetFeaturizationCompleted. Completed fit featurizers and featurizing the dataset.\n",
            "Current status: DatasetCrossValidationSplit. Generating individually featurized CV splits.\n",
            "\n",
            "****************************************************************************************************\n",
            "DATA GUARDRAILS: \n",
            "\n",
            "TYPE:         Missing feature values imputation\n",
            "STATUS:       PASSED\n",
            "DESCRIPTION:  No feature missing values were detected in the training data.\n",
            "              Learn more about missing value imputation: https://aka.ms/AutomatedMLFeaturization\n",
            "\n",
            "****************************************************************************************************\n",
            "\n",
            "TYPE:         High cardinality feature detection\n",
            "STATUS:       PASSED\n",
            "DESCRIPTION:  Your inputs were analyzed, and no high cardinality features were detected.\n",
            "              Learn more about high cardinality feature handling: https://aka.ms/AutomatedMLFeaturization\n",
            "\n",
            "****************************************************************************************************\n",
            "Current status: ModelSelection. Beginning model selection.\n",
            "\n",
            "****************************************************************************************************\n",
            "ITERATION: The iteration being evaluated.\n",
            "PIPELINE: A summary description of the pipeline being evaluated.\n",
            "DURATION: Time taken for the current iteration.\n",
            "METRIC: The result of computing score on the fitted pipeline.\n",
            "BEST: The best observed score thus far.\n",
            "****************************************************************************************************\n",
            "\n",
            " ITERATION   PIPELINE                                       DURATION      METRIC      BEST\n",
            "         0   "
          ]
        }
      ],
      "execution_count": 14,
      "metadata": {
        "collapsed": true,
        "jupyter": {
          "source_hidden": false,
          "outputs_hidden": false
        },
        "nteract": {
          "transient": {
            "deleting": false
          }
        }
      }
    },
    {
      "cell_type": "code",
      "source": [
        "from azureml.widgets import RunDetails\n",
        "RunDetails(local_run).show()"
      ],
      "outputs": [],
      "execution_count": null,
      "metadata": {
        "collapsed": true,
        "jupyter": {
          "source_hidden": false,
          "outputs_hidden": false
        },
        "nteract": {
          "transient": {
            "deleting": false
          }
        }
      }
    }
  ],
  "metadata": {
    "kernelspec": {
      "name": "python3-azureml",
      "language": "python",
      "display_name": "Python 3.6 - AzureML"
    },
    "language_info": {
      "name": "python",
      "version": "3.6.9",
      "mimetype": "text/x-python",
      "codemirror_mode": {
        "name": "ipython",
        "version": 3
      },
      "pygments_lexer": "ipython3",
      "nbconvert_exporter": "python",
      "file_extension": ".py"
    },
    "kernel_info": {
      "name": "python3-azureml"
    },
    "nteract": {
      "version": "nteract-front-end@1.0.0"
    }
  },
  "nbformat": 4,
  "nbformat_minor": 2
}